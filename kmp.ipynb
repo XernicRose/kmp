{
 "cells": [
  {
   "cell_type": "code",
   "execution_count": 8,
   "metadata": {},
   "outputs": [],
   "source": [
    "#寻找初始的prefix table的值\n",
    "def prefix_table(pattern, length):\n",
    "    prefix  = [i for i in range(0, length)]\n",
    "    prefix[0] = 0\n",
    "    \n",
    "    len, i = 0, 1\n",
    "    \n",
    "    while i < length :\n",
    "        if pattern[i] == pattern[len] :\n",
    "            len += 1\n",
    "            prefix[i] = len\n",
    "            i += 1\n",
    "        else:\n",
    "            if len > 0:\n",
    "                len = prefix[len-1]\n",
    "            else:                       #用于代码启动，否则当len=0时，陷入死循环\n",
    "                prefix[i] = len\n",
    "                i += 1\n",
    "                \n",
    "    return prefix"
   ]
  },
  {
   "cell_type": "code",
   "execution_count": 9,
   "metadata": {},
   "outputs": [],
   "source": [
    "#变化为程序用的prefix table的值，即最终的next数组\n",
    "def move_prfix_table(prefix, length):\n",
    "    for i in range(length-1, 0, -1):\n",
    "        prefix[i] = prefix[i-1]\n",
    "    prefix[0] = -1\n",
    "    \n",
    "    return prefix"
   ]
  },
  {
   "cell_type": "code",
   "execution_count": 29,
   "metadata": {},
   "outputs": [],
   "source": [
    "def kmp_search(pattern, text):\n",
    "    \"\"\"\n",
    "    n       text's length\n",
    "    n_pat   pattern's length\n",
    "    i       text's cursor\n",
    "    j       pattern's cursor\n",
    "    op      pattern's true option\n",
    "    \"\"\"\n",
    "    ans = []\n",
    "    \n",
    "    n = len(text)\n",
    "    n_pat = len(pattern)\n",
    "    prefix = prefix_table(pattern, n_pat)\n",
    "    prefix = move_prfix_table(prefix, n_pat)\n",
    "    \n",
    "    i, j, op = 0, 0, 0\n",
    "    while i < n:\n",
    "        \n",
    "        if j == n_pat-1 and text[i] == pattern[j]:              #结果条件，注意不能与下面的text[i] == pattern[j]合并在一起，因为每次i、j移动都是需要再次判断的，否则会出bug\n",
    "                print(\"found pattern at \"+str(i-j)+\"\\n\")\n",
    "                ans.append(i-j)\n",
    "                j = prefix[j]\n",
    "                if n-i < n_pat:                                 #一个退出条件，当后面的字符数量小于匹配串时，当然不可能再匹配\n",
    "                    break\n",
    "        \n",
    "        if j==0 and n-i < n_pat:                                #一个退出条件，当后面的字符数量小于匹配串时，当然不可能再匹配\n",
    "            break\n",
    "        \n",
    "        if text[i] == pattern[j]:\n",
    "            print(text)\n",
    "            print(' '*i+'^')\n",
    "            print(' '*op+pattern)\n",
    "            print(' '*i+'^')\n",
    "        \n",
    "            i += 1\n",
    "            j += 1\n",
    "        \n",
    "        else:\n",
    "            j = prefix[j]\n",
    "            if j == -1:                                         #j=-1本质上是假想条件，实际处理就是匹配串右移以及text串游标右移\n",
    "                i += 1\n",
    "                j += 1\n",
    "            op = j+i                                            #匹配串移动的真实位置\n",
    "                \n",
    "    return ans"
   ]
  },
  {
   "cell_type": "code",
   "execution_count": 32,
   "metadata": {},
   "outputs": [
    {
     "name": "stdout",
     "output_type": "stream",
     "text": [
      "abaacabcacaaaa\n",
      "^\n",
      "abcac\n",
      "^\n",
      "abaacabcacaaaa\n",
      " ^\n",
      "abcac\n",
      " ^\n",
      "abaacabcacaaaa\n",
      "  ^\n",
      "  abcac\n",
      "  ^\n",
      "abaacabcacaaaa\n",
      "   ^\n",
      "   abcac\n",
      "   ^\n",
      "abaacabcacaaaa\n",
      "     ^\n",
      "     abcac\n",
      "     ^\n",
      "abaacabcacaaaa\n",
      "      ^\n",
      "     abcac\n",
      "      ^\n",
      "abaacabcacaaaa\n",
      "       ^\n",
      "     abcac\n",
      "       ^\n",
      "abaacabcacaaaa\n",
      "        ^\n",
      "     abcac\n",
      "        ^\n",
      "found pattern at 5\n",
      "\n"
     ]
    }
   ],
   "source": [
    "pattern =  \"abcac\"\n",
    "text = \"abaacabcacaaaa\"\n",
    "prefix = prefix_table(pattern, len(pattern))\n",
    "prefix = move_prfix_table(prefix, len(pattern))\n",
    "ans = kmp_search(pattern, text)"
   ]
  }
 ],
 "metadata": {
  "kernelspec": {
   "display_name": "Python 3.9.2 64-bit",
   "language": "python",
   "name": "python3"
  },
  "language_info": {
   "codemirror_mode": {
    "name": "ipython",
    "version": 3
   },
   "file_extension": ".py",
   "mimetype": "text/x-python",
   "name": "python",
   "nbconvert_exporter": "python",
   "pygments_lexer": "ipython3",
   "version": "3.9.2"
  },
  "orig_nbformat": 4,
  "vscode": {
   "interpreter": {
    "hash": "33119efcfb65111b62dd756f88c2cd19c1cdec87a1bb84ae076f6bac7c9a2f50"
   }
  }
 },
 "nbformat": 4,
 "nbformat_minor": 2
}
